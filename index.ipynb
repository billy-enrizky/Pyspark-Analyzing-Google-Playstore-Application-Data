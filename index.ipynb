{
 "cells": [
  {
   "cell_type": "markdown",
   "id": "d0556b2e-1cdc-4bcd-8add-e1f36f3e8d28",
   "metadata": {},
   "source": [
    "# Analyzing Google Playstore Application Data Using Pyspark"
   ]
  },
  {
   "cell_type": "markdown",
   "id": "5dd7addd-e1d3-4858-ac0b-71b7565d487c",
   "metadata": {},
   "source": [
    "## Import Necessary Libraries"
   ]
  },
  {
   "cell_type": "code",
   "execution_count": 2,
   "id": "3c87b7ae-eabd-4aee-adda-a005db44b98c",
   "metadata": {},
   "outputs": [],
   "source": [
    "import pyspark\n",
    "from pyspark.sql import SparkSession\n",
    "from pyspark.sql.types import StructType, StructField, StringType, IntegerType\n",
    "from pyspark.sql.functions import *"
   ]
  },
  {
   "cell_type": "markdown",
   "id": "f3c77529-eb7a-4fae-a93c-08e9f1d0e08f",
   "metadata": {},
   "source": [
    "## Create The Google Playstore Application DataFrame"
   ]
  },
  {
   "cell_type": "code",
   "execution_count": 3,
   "id": "f7195898-ce7f-4022-9316-2a54ffe3b478",
   "metadata": {},
   "outputs": [],
   "source": [
    "# Create a Spark session\n",
    "spark = SparkSession.builder.appName(\"GooglePlayStore\").getOrCreate()\n",
    "\n",
    "# Read the CSV file\n",
    "df = spark.read.csv('googleplaystore.csv', header=True, inferSchema=True, escape='\"')"
   ]
  },
  {
   "cell_type": "markdown",
   "id": "eaf7e92f-6928-46c2-a0b2-8c8fc433103c",
   "metadata": {},
   "source": [
    "## Analyzing The DataFrame by Selecting 5 Random Rows"
   ]
  },
  {
   "cell_type": "code",
   "execution_count": 20,
   "id": "d37b27e1-1fc7-43b8-833e-4c19e987e137",
   "metadata": {},
   "outputs": [
    {
     "name": "stdout",
     "output_type": "stream",
     "text": [
      "+--------------------+-----------------+------+-------+----+--------+----+-----+--------------+---------------+----------------+-----------+-----------+\n",
      "|                 App|         Category|Rating|Reviews|Size|Installs|Type|Price|Content Rating|         Genres|    Last Updated|Current Ver|Android Ver|\n",
      "+--------------------+-----------------+------+-------+----+--------+----+-----+--------------+---------------+----------------+-----------+-----------+\n",
      "|Photo Designer - ...|   ART_AND_DESIGN|   4.7|   3632|5.5M|500,000+|Free|    0|      Everyone|   Art & Design|   July 31, 2018|        3.1| 4.1 and up|\n",
      "|   Art Drawing Ideas|   ART_AND_DESIGN|   4.1|    227|5.2M| 50,000+|Free|    0|      Everyone|   Art & Design|    May 31, 2018|        1.2| 2.3 and up|\n",
      "|     I Creative Idea|   ART_AND_DESIGN|   4.7|    353|4.2M| 10,000+|Free|    0|          Teen|   Art & Design|  April 27, 2018|        1.6| 4.1 and up|\n",
      "|Gas Prices (Germa...|AUTO_AND_VEHICLES|   4.4|    805|5.6M| 50,000+|Free|    0|      Everyone|Auto & Vehicles|   July 29, 2018|      2.5.1| 4.4 and up|\n",
      "|    Used Cars Mexico|AUTO_AND_VEHICLES|   4.0|    190|2.5M| 50,000+|Free|    0|      Everyone|Auto & Vehicles|October 14, 2016|        1.0| 2.3 and up|\n",
      "+--------------------+-----------------+------+-------+----+--------+----+-----+--------------+---------------+----------------+-----------+-----------+\n",
      "only showing top 5 rows\n",
      "\n"
     ]
    }
   ],
   "source": [
    "df.sample(False, 0.1).show(5, truncate=True)"
   ]
  },
  {
   "cell_type": "markdown",
   "id": "faaea19b-3b4c-4a84-a27f-8bfb9a1f076d",
   "metadata": {},
   "source": [
    "## Analyzing Data Distribution For Each Column"
   ]
  },
  {
   "cell_type": "code",
   "execution_count": 22,
   "id": "44a35a3f-29cc-4dcf-9bee-620b37395bcd",
   "metadata": {},
   "outputs": [
    {
     "name": "stdout",
     "output_type": "stream",
     "text": [
      "root\n",
      " |-- App: string (nullable = true)\n",
      " |-- Category: string (nullable = true)\n",
      " |-- Rating: double (nullable = true)\n",
      " |-- Reviews: string (nullable = true)\n",
      " |-- Size: string (nullable = true)\n",
      " |-- Installs: string (nullable = true)\n",
      " |-- Type: string (nullable = true)\n",
      " |-- Price: string (nullable = true)\n",
      " |-- Content Rating: string (nullable = true)\n",
      " |-- Genres: string (nullable = true)\n",
      " |-- Last Updated: string (nullable = true)\n",
      " |-- Current Ver: string (nullable = true)\n",
      " |-- Android Ver: string (nullable = true)\n",
      "\n"
     ]
    }
   ],
   "source": [
    "df.printSchema()"
   ]
  },
  {
   "cell_type": "code",
   "execution_count": 6,
   "id": "1e959ad5-4dcb-47a5-af42-82cb8be038db",
   "metadata": {},
   "outputs": [
    {
     "name": "stdout",
     "output_type": "stream",
     "text": [
      "df['App']\n",
      "+-------------------------------------------------+-----+\n",
      "|App                                              |count|\n",
      "+-------------------------------------------------+-----+\n",
      "|ROBLOX                                           |9    |\n",
      "|CBS Sports App - Scores, News, Stats & Watch Live|8    |\n",
      "|ESPN                                             |7    |\n",
      "|8 Ball Pool                                      |7    |\n",
      "|Candy Crush Saga                                 |7    |\n",
      "+-------------------------------------------------+-----+\n",
      "\n",
      "\n",
      "\n",
      "df['Category']\n",
      "+--------+-----+\n",
      "|Category|count|\n",
      "+--------+-----+\n",
      "|FAMILY  |1972 |\n",
      "|GAME    |1144 |\n",
      "|TOOLS   |843  |\n",
      "|MEDICAL |463  |\n",
      "|BUSINESS|460  |\n",
      "+--------+-----+\n",
      "\n",
      "\n",
      "\n",
      "df['Rating']\n",
      "+------+-----+\n",
      "|Rating|count|\n",
      "+------+-----+\n",
      "|NaN   |1474 |\n",
      "|4.4   |1109 |\n",
      "|4.3   |1076 |\n",
      "|4.5   |1038 |\n",
      "|4.2   |952  |\n",
      "+------+-----+\n",
      "\n",
      "\n",
      "\n",
      "df['Reviews']\n",
      "+-------+-----+\n",
      "|Reviews|count|\n",
      "+-------+-----+\n",
      "|0      |596  |\n",
      "|1      |272  |\n",
      "|2      |214  |\n",
      "|3      |175  |\n",
      "|4      |137  |\n",
      "+-------+-----+\n",
      "\n",
      "\n",
      "\n",
      "df['Size']\n",
      "+------------------+-----+\n",
      "|Size              |count|\n",
      "+------------------+-----+\n",
      "|Varies with device|1695 |\n",
      "|11M               |198  |\n",
      "|12M               |196  |\n",
      "|14M               |194  |\n",
      "|13M               |191  |\n",
      "+------------------+-----+\n",
      "\n",
      "\n",
      "\n",
      "df['Installs']\n",
      "+-----------+-----+\n",
      "|Installs   |count|\n",
      "+-----------+-----+\n",
      "|1,000,000+ |1579 |\n",
      "|10,000,000+|1252 |\n",
      "|100,000+   |1169 |\n",
      "|10,000+    |1054 |\n",
      "|1,000+     |907  |\n",
      "+-----------+-----+\n",
      "\n",
      "\n",
      "\n",
      "df['Type']\n",
      "+----+-----+\n",
      "|Type|count|\n",
      "+----+-----+\n",
      "|Free|10039|\n",
      "|Paid|800  |\n",
      "|0   |1    |\n",
      "|NaN |1    |\n",
      "+----+-----+\n",
      "\n",
      "\n",
      "\n",
      "df['Price']\n",
      "+-----+-----+\n",
      "|Price|count|\n",
      "+-----+-----+\n",
      "|0    |10040|\n",
      "|$0.99|148  |\n",
      "|$2.99|129  |\n",
      "|$1.99|73   |\n",
      "|$4.99|72   |\n",
      "+-----+-----+\n",
      "\n",
      "\n",
      "\n",
      "df['Content Rating']\n",
      "+---------------+-----+\n",
      "|Content Rating |count|\n",
      "+---------------+-----+\n",
      "|Everyone       |8714 |\n",
      "|Teen           |1208 |\n",
      "|Mature 17+     |499  |\n",
      "|Everyone 10+   |414  |\n",
      "|Adults only 18+|3    |\n",
      "+---------------+-----+\n",
      "\n",
      "\n",
      "\n",
      "df['Genres']\n",
      "+-------------+-----+\n",
      "|Genres       |count|\n",
      "+-------------+-----+\n",
      "|Tools        |842  |\n",
      "|Entertainment|623  |\n",
      "|Education    |549  |\n",
      "|Medical      |463  |\n",
      "|Business     |460  |\n",
      "+-------------+-----+\n",
      "\n",
      "\n",
      "\n",
      "df['Last Updated']\n",
      "+--------------+-----+\n",
      "|Last Updated  |count|\n",
      "+--------------+-----+\n",
      "|August 3, 2018|326  |\n",
      "|August 2, 2018|304  |\n",
      "|July 31, 2018 |294  |\n",
      "|August 1, 2018|285  |\n",
      "|July 30, 2018 |211  |\n",
      "+--------------+-----+\n",
      "\n",
      "\n",
      "\n",
      "df['Current Ver']\n",
      "+------------------+-----+\n",
      "|Current Ver       |count|\n",
      "+------------------+-----+\n",
      "|Varies with device|1459 |\n",
      "|1.0               |809  |\n",
      "|1.1               |264  |\n",
      "|1.2               |178  |\n",
      "|2.0               |151  |\n",
      "+------------------+-----+\n",
      "\n",
      "\n",
      "\n",
      "df['Android Ver']\n",
      "+------------------+-----+\n",
      "|Android Ver       |count|\n",
      "+------------------+-----+\n",
      "|4.1 and up        |2451 |\n",
      "|4.0.3 and up      |1501 |\n",
      "|4.0 and up        |1375 |\n",
      "|Varies with device|1362 |\n",
      "|4.4 and up        |980  |\n",
      "+------------------+-----+\n",
      "\n",
      "\n",
      "\n"
     ]
    }
   ],
   "source": [
    "for col in df.columns:\n",
    "    counts = df.groupBy(col).agg(count(\"*\").alias(\"count\")).orderBy(\"count\", ascending=False).limit(5)\n",
    "    print(f\"df['{col}']\")\n",
    "    counts.show(truncate=False)\n",
    "    print(\"\\n\")"
   ]
  },
  {
   "cell_type": "markdown",
   "id": "cbd434b8-f630-491a-881b-184561a9d1fe",
   "metadata": {},
   "source": [
    "**From The Result above, we can summary the dataframe.**\n",
    "\n",
    "## DataFrame Description\n",
    "\n",
    "The dataset represents information about mobile apps available on the Google Play Store. It contains various attributes for each app, such as its name, category, rating, number of reviews, size, installation count, type (free or paid), price, content rating, genre, last update date, current version, and Android version compatibility.\n",
    "\n",
    "### Columns:\n",
    "\n",
    "1. **App** (string): The name of the mobile app.\n",
    "\n",
    "2. **Category** (string): The category to which the app belongs. Top 3 categories are:\n",
    "   - FAMILY\n",
    "   - GAME\n",
    "   - TOOLS\n",
    "\n",
    "3. **Rating** (double): The average user rating of the app. Top 3 ratings are:\n",
    "   - 4.4\n",
    "   - 4.3\n",
    "   - 4.5\n",
    "\n",
    "4. **Reviews** (string): The number of user reviews for the app.\n",
    "\n",
    "5. **Size** (string): The size of the app. Note that some entries indicate \"Varies with device.\"\n",
    "\n",
    "6. **Installs** (string): The number of app installations. Top 3 installation counts are:\n",
    "   - 1,000,000+\n",
    "   - 10,000,000+\n",
    "   - 100,000+\n",
    "\n",
    "7. **Type** (string): Whether the app is free or paid. Top 3 types are:\n",
    "   - Free\n",
    "   - Paid\n",
    "\n",
    "8. **Price** (string): The price of the app. Some entries are in the format \"$X.XX.\"\n",
    "\n",
    "9. **Content Rating** (string): The content rating for the app. Top 3 content ratings are:\n",
    "   - Everyone\n",
    "   - Teen\n",
    "   - Mature 17+\n",
    "\n",
    "10. **Genres** (string): The genre(s) of the app. Top 3 genres are:\n",
    "    - Tools\n",
    "    - Entertainment\n",
    "    - Education\n",
    "\n",
    "11. **Last Updated** (string): The date when the app was last updated.\n",
    "\n",
    "12. **Current Ver** (string): The current version of the app. Note that some entries indicate \"Varies with device.\"\n",
    "\n",
    "13. **Android Ver** (string): The minimum Android version required to run the app."
   ]
  },
  {
   "cell_type": "markdown",
   "id": "d0cec8a5-0ddd-4e09-89b8-991ff82f335c",
   "metadata": {},
   "source": [
    "## Data Cleaning"
   ]
  },
  {
   "cell_type": "markdown",
   "id": "11367e59-97e8-46c5-9edf-9597ebee1757",
   "metadata": {},
   "source": [
    "### Dropping Unnecessary Columns"
   ]
  },
  {
   "cell_type": "code",
   "execution_count": 59,
   "id": "496bf294-0e06-4ee4-ae11-be08837b1bd5",
   "metadata": {},
   "outputs": [],
   "source": [
    "df = df.drop(\"Size\", \"Content Rating\", \"Last Updated\", \"Current Ver\", \"Android Ver\")"
   ]
  },
  {
   "cell_type": "markdown",
   "id": "3ad61475-a093-454d-92cf-b268c4ecb843",
   "metadata": {},
   "source": [
    "### Fixing Wrong Datatype "
   ]
  },
  {
   "cell_type": "code",
   "execution_count": 56,
   "id": "211bebb0-4daf-4013-9321-6a6686b050d9",
   "metadata": {},
   "outputs": [
    {
     "name": "stdout",
     "output_type": "stream",
     "text": [
      "+--------------------+--------------+------+-------+----------+----+-----+------------+\n",
      "|                 App|      Category|Rating|Reviews|  Installs|Type|Price|      Genres|\n",
      "+--------------------+--------------+------+-------+----------+----+-----+------------+\n",
      "|U Launcher Lite –...|ART_AND_DESIGN|   4.7|  87510|5,000,000+|Free|    0|Art & Design|\n",
      "|Smoke Effect Phot...|ART_AND_DESIGN|   3.8|    178|   50,000+|Free|    0|Art & Design|\n",
      "|  Easy Origami Ideas|ART_AND_DESIGN|   4.2|   1015|  100,000+|Free|    0|Art & Design|\n",
      "|How to draw Ladyb...|ART_AND_DESIGN|   3.8|    564|  100,000+|Free|    0|Art & Design|\n",
      "|How To Color Disn...|ART_AND_DESIGN|   4.0|    591|  500,000+|Free|    0|Art & Design|\n",
      "+--------------------+--------------+------+-------+----------+----+-----+------------+\n",
      "only showing top 5 rows\n",
      "\n"
     ]
    }
   ],
   "source": [
    "df.sample(False, 0.1).show(5)"
   ]
  },
  {
   "cell_type": "code",
   "execution_count": 57,
   "id": "9a03462d-9971-4455-9b17-8692230ba7cb",
   "metadata": {},
   "outputs": [
    {
     "name": "stdout",
     "output_type": "stream",
     "text": [
      "root\n",
      " |-- App: string (nullable = true)\n",
      " |-- Category: string (nullable = true)\n",
      " |-- Rating: double (nullable = true)\n",
      " |-- Reviews: string (nullable = true)\n",
      " |-- Installs: string (nullable = true)\n",
      " |-- Type: string (nullable = true)\n",
      " |-- Price: string (nullable = true)\n",
      " |-- Genres: string (nullable = true)\n",
      "\n"
     ]
    }
   ],
   "source": [
    "df.printSchema()"
   ]
  },
  {
   "cell_type": "markdown",
   "id": "12308e74-c008-42aa-8231-928e265e7acb",
   "metadata": {},
   "source": [
    "We are required to convert the data types of the 'Reviews,' 'Installs,' and 'Price' columns from string to integer."
   ]
  },
  {
   "cell_type": "markdown",
   "id": "ed7d51b4-69b3-436e-ab5f-bf748de58294",
   "metadata": {},
   "source": [
    "To enhance the data quality, we are required to convert the data types of the `Reviews`, `Installs`, and `Price` columns from string to integer. Special attention is needed for the `Installs` and `Price` columns to handle additional characters present in the data."
   ]
  },
  {
   "cell_type": "code",
   "execution_count": 60,
   "id": "02c0708c-bd62-4dd7-b88b-11877a4cc657",
   "metadata": {},
   "outputs": [],
   "source": [
    "# Convert \"Reviews\" column to integer\n",
    "df = df.withColumn(\"Reviews\", col(\"Reviews\").cast(IntegerType()))\n",
    "\n",
    "# Clean and convert \"Installs\" column to integer in a single step\n",
    "df = df.withColumn(\"Installs\", regexp_replace(col(\"Installs\"), \"[^0-9]\", \"\").cast(IntegerType()))\n",
    "\n",
    "# Clean and convert \"Price\" column to integer in a single step\n",
    "df = df.withColumn(\"Price\", regexp_replace(col(\"Price\"), \"[^0-9]\", \"\").cast(IntegerType()))"
   ]
  },
  {
   "cell_type": "markdown",
   "id": "12eb1fd4-3252-42cf-a35c-009e65587ed6",
   "metadata": {},
   "source": [
    "## Data Analysis"
   ]
  },
  {
   "cell_type": "markdown",
   "id": "54a0ed4d-2378-44a5-854e-a195f5a37220",
   "metadata": {},
   "source": [
    "### Top 5 Apps with the Most Reviews"
   ]
  },
  {
   "cell_type": "code",
   "execution_count": 76,
   "id": "96d61746-eefc-45b8-a378-020a4f730fb4",
   "metadata": {},
   "outputs": [
    {
     "name": "stdout",
     "output_type": "stream",
     "text": [
      "+----------------------------------------+-------------+\n",
      "|App                                     |Total Reviews|\n",
      "+----------------------------------------+-------------+\n",
      "|Instagram                               |266241989    |\n",
      "|WhatsApp Messenger                      |207348304    |\n",
      "|Clash of Clans                          |179558781    |\n",
      "|Messenger – Text and Video Chat for Free|169932272    |\n",
      "|Subway Surfers                          |166331958    |\n",
      "+----------------------------------------+-------------+\n",
      "\n"
     ]
    }
   ],
   "source": [
    "# Group by 'App' and sum the 'Reviews' for each app\n",
    "apps_review_sum = df.groupBy('App').agg(sum('Reviews').alias('Total Reviews'))\n",
    "\n",
    "# Sort the DataFrame by 'Total Reviews' in descending order\n",
    "top_5_apps_by_reviews = apps_review_sum.orderBy(col('Total Reviews').desc()).limit(5)\n",
    "\n",
    "# Show the top 5 apps with the most sum of reviews\n",
    "top_5_apps_by_reviews.show(truncate=False)"
   ]
  },
  {
   "cell_type": "markdown",
   "id": "eb0ce83b-4dfd-4d53-aa07-4b3c894e06de",
   "metadata": {},
   "source": [
    "### Top 5 Most Installed Apps"
   ]
  },
  {
   "cell_type": "code",
   "execution_count": 78,
   "id": "9e2e085e-ea0d-49de-8a55-18cc83589b24",
   "metadata": {},
   "outputs": [
    {
     "name": "stdout",
     "output_type": "stream",
     "text": [
      "+--------------+--------------+\n",
      "|App           |Total Installs|\n",
      "+--------------+--------------+\n",
      "|Subway Surfers|6000000000    |\n",
      "|Google Photos |4000000000    |\n",
      "|Hangouts      |4000000000    |\n",
      "|Instagram     |4000000000    |\n",
      "|Google Drive  |4000000000    |\n",
      "+--------------+--------------+\n",
      "\n"
     ]
    }
   ],
   "source": [
    "# Group by 'App' and sum the 'Installs' for each app\n",
    "apps_installs_sum = df.groupBy('App').agg(sum('Installs').alias('Total Installs'))\n",
    "\n",
    "# Sort the DataFrame by 'Total Installs' in descending order\n",
    "top_5_apps_by_installs = apps_installs_sum.orderBy(col('Total Installs').desc()).limit(5)\n",
    "\n",
    "# Show the top 5 apps with the most sum of instaklls\n",
    "top_5_apps_by_installs.show(truncate=False)"
   ]
  },
  {
   "cell_type": "markdown",
   "id": "e825cf88-48c0-4491-97b3-d9f94bf2bf71",
   "metadata": {},
   "source": [
    "## Analysis of App Installations by Category"
   ]
  },
  {
   "cell_type": "code",
   "execution_count": 79,
   "id": "88dffe9b-bcc4-4c77-9467-3c866662d6be",
   "metadata": {},
   "outputs": [
    {
     "name": "stdout",
     "output_type": "stream",
     "text": [
      "+-------------------+--------------+\n",
      "|Category           |Total Installs|\n",
      "+-------------------+--------------+\n",
      "|GAME               |35086024415   |\n",
      "|COMMUNICATION      |32647276251   |\n",
      "|PRODUCTIVITY       |14176091369   |\n",
      "|SOCIAL             |14069867902   |\n",
      "|TOOLS              |11452771915   |\n",
      "|FAMILY             |10258263505   |\n",
      "|PHOTOGRAPHY        |10088247655   |\n",
      "|NEWS_AND_MAGAZINES |7496317760    |\n",
      "|TRAVEL_AND_LOCAL   |6868887146    |\n",
      "|VIDEO_PLAYERS      |6222002720    |\n",
      "|SHOPPING           |3247848785    |\n",
      "|ENTERTAINMENT      |2869160000    |\n",
      "|PERSONALIZATION    |2325494782    |\n",
      "|BOOKS_AND_REFERENCE|1921469576    |\n",
      "|SPORTS             |1751174498    |\n",
      "|HEALTH_AND_FITNESS |1583072512    |\n",
      "|BUSINESS           |1001914865    |\n",
      "|FINANCE            |876648734     |\n",
      "|EDUCATION          |871452000     |\n",
      "|MAPS_AND_NAVIGATION|724281890     |\n",
      "+-------------------+--------------+\n",
      "only showing top 20 rows\n",
      "\n"
     ]
    }
   ],
   "source": [
    "# Group by 'Category' and sum the 'Installs' for each app\n",
    "categories_installs_sum = df.groupBy('Category').agg(sum('Installs').alias('Total Installs'))\n",
    "\n",
    "# Sort the DataFrame by 'Total Installs' in descending order\n",
    "categories_installs_sum = categories_installs_sum.orderBy(col('Total Installs').desc())\n",
    "\n",
    "# Show the category wise distribution of installed apps\n",
    "categories_installs_sum.show(truncate=False)"
   ]
  },
  {
   "cell_type": "markdown",
   "id": "d2f886c0-1ce0-44d4-a107-0686701a5be6",
   "metadata": {},
   "source": [
    "## Top 5 Apps with the Highest Ratings"
   ]
  },
  {
   "cell_type": "code",
   "execution_count": 88,
   "id": "3414a9de-fbf3-4bf9-a1e0-cf045a417b5c",
   "metadata": {},
   "outputs": [
    {
     "name": "stdout",
     "output_type": "stream",
     "text": [
      "+------------------------------------------+------+----+\n",
      "|App                                       |Rating|Type|\n",
      "+------------------------------------------+------+----+\n",
      "|Awake Dating                              |5.0   |Free|\n",
      "|Speeding Joyride & Car Meet App           |5.0   |Free|\n",
      "|Spine- The dating app                     |5.0   |Free|\n",
      "|Hojiboy Tojiboyev Life Hacks              |5.0   |Free|\n",
      "|Girls Live Talk - Free Text and Video Chat|5.0   |Free|\n",
      "+------------------------------------------+------+----+\n",
      "\n"
     ]
    }
   ],
   "source": [
    "# Filtering the Rating Column From the invalid values\n",
    "top_apps_by_ratings = df.filter(~isnan(col('Rating'))).filter(df['Rating'] <= 5)\n",
    "\n",
    "# Sort the DataFrame by 'Rating' in descending order\n",
    "top_apps_by_ratings = top_apps_by_ratings.orderBy(col('Rating').desc()).limit(5)\n",
    "\n",
    "# Show Top 5 Apps with the Highest Ratings\n",
    "top_apps_by_ratings.select('App', 'Rating', 'Type').show(truncate=False)"
   ]
  },
  {
   "cell_type": "markdown",
   "id": "ecb4a086-58b6-4451-8da1-66a8edf2c30b",
   "metadata": {},
   "source": [
    "## Top 5 Apps with the Highest Prices"
   ]
  },
  {
   "cell_type": "code",
   "execution_count": 87,
   "id": "0cc65ba3-1aaa-45db-bca0-7cc246f2280c",
   "metadata": {},
   "outputs": [
    {
     "name": "stdout",
     "output_type": "stream",
     "text": [
      "+------------------------+-----+\n",
      "|App                     |Price|\n",
      "+------------------------+-----+\n",
      "|I'm Rich - Trump Edition|40000|\n",
      "|💎 I'm rich             |39999|\n",
      "|I am Rich Plus          |39999|\n",
      "|I am rich               |39999|\n",
      "|I Am Rich Premium       |39999|\n",
      "+------------------------+-----+\n",
      "\n"
     ]
    }
   ],
   "source": [
    "# Sort the DataFrame by 'Price' in descending order\n",
    "top_apps_by_price = df.orderBy(col('Price').desc()).limit(5)\n",
    "\n",
    "# Show Top 5 Apps with the Highest Price\n",
    "top_apps_by_price.select('App', 'Price').show(truncate=False)"
   ]
  },
  {
   "cell_type": "markdown",
   "id": "5396c448-5ac8-410b-985c-c283bc6333a2",
   "metadata": {},
   "source": [
    "## Top 5 Paid Apps with the Highest Ratings"
   ]
  },
  {
   "cell_type": "code",
   "execution_count": 92,
   "id": "74336cb4-4e23-4cfd-9a4a-de2192c2b530",
   "metadata": {},
   "outputs": [
    {
     "name": "stdout",
     "output_type": "stream",
     "text": [
      "+-------------------------+------+----+\n",
      "|App                      |Rating|Type|\n",
      "+-------------------------+------+----+\n",
      "|Android P Style Icon Pack|5.0   |Paid|\n",
      "|AJ Gray Dark Icon Pack   |5.0   |Paid|\n",
      "|Easy Hotspot Ad Free     |5.0   |Paid|\n",
      "|P-Home for KLWP          |5.0   |Paid|\n",
      "|Hey AJ! It's Saturday!   |5.0   |Paid|\n",
      "+-------------------------+------+----+\n",
      "\n"
     ]
    }
   ],
   "source": [
    "# Filtering the Rating Column From the invalid values and Free Apps\n",
    "top_paid_apps_by_ratings = df.filter(~isnan(col('Rating'))).filter(df['Rating'] <= 5).filter(df['Type']=='Paid')\n",
    "\n",
    "# Sort the DataFrame by 'Rating' in descending order\n",
    "top_paid_apps_by_ratings = top_paid_apps_by_ratings.orderBy(col('Rating').desc()).limit(5)\n",
    "\n",
    "# Show Top 5 Apps with the Highest Ratings\n",
    "top_paid_apps_by_ratings.select('App', 'Rating', 'Type').show(truncate=False)"
   ]
  }
 ],
 "metadata": {
  "kernelspec": {
   "display_name": "Python 3 (ipykernel)",
   "language": "python",
   "name": "python3"
  },
  "language_info": {
   "codemirror_mode": {
    "name": "ipython",
    "version": 3
   },
   "file_extension": ".py",
   "mimetype": "text/x-python",
   "name": "python",
   "nbconvert_exporter": "python",
   "pygments_lexer": "ipython3",
   "version": "3.11.3"
  }
 },
 "nbformat": 4,
 "nbformat_minor": 5
}
